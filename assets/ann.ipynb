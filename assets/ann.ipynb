{
 "cells": [
  {
   "cell_type": "code",
   "execution_count": 22,
   "metadata": {},
   "outputs": [],
   "source": [
    "import pandas as pd\n",
    "import numpy as np\n",
    "import matplotlib.pyplot as plt\n",
    "from sklearn.ensemble import RandomForestRegressor\n",
    "from sklearn.ensemble import ExtraTreesRegressor\n",
    "from sklearn.model_selection import train_test_split\n",
    "from tensorflow.keras.models import Sequential\n",
    "from tensorflow.keras.layers import Dense\n",
    "from tensorflow.keras.layers import Normalization\n",
    "from tensorflow.keras.layers import Dropout\n",
    "from tensorflow.keras.layers import BatchNormalization\n",
    "from tensorflow.keras.optimizers import Adam\n",
    "import tensorflow as tf\n",
    "from tensorflow import keras\n"
   ]
  },
  {
   "cell_type": "code",
   "execution_count": 23,
   "metadata": {},
   "outputs": [],
   "source": [
    "df = pd.read_csv('FADbF_dataset.csv',sep=';')"
   ]
  },
  {
   "cell_type": "code",
   "execution_count": 24,
   "metadata": {},
   "outputs": [
    {
     "name": "stdout",
     "output_type": "stream",
     "text": [
      "(168000, 126) (168000,)\n"
     ]
    }
   ],
   "source": [
    "y = df['fault_location'].values\n",
    "x = df.drop(['fault_location','fault_type'], axis=1).values\n",
    "print(x.shape, y.shape)"
   ]
  },
  {
   "cell_type": "code",
   "execution_count": 25,
   "metadata": {},
   "outputs": [],
   "source": [
    "x_test, x_train, y_test, y_train = train_test_split(x, y, test_size=0.1)"
   ]
  },
  {
   "cell_type": "code",
   "execution_count": 26,
   "metadata": {},
   "outputs": [],
   "source": [
    "norm_layer = Normalization()\n",
    "activation = 'relu'\n",
    "\n",
    "def build_model():\n",
    "    inputs = keras.Input(shape=(x.shape[1],))\n",
    "    norm_inputs = norm_layer(inputs)\n",
    "    out = Dense(128, activation=activation)(norm_inputs)\n",
    "    out1 = Dropout(0.05)(out)\n",
    "    out = Dense(64, activation=activation)(out1)\n",
    "    out = Dense(32, activation=activation)(out)\n",
    "    concat = tf.concat([out, out1], axis=1)\n",
    "    out = Dense(16, activation=activation)(concat)\n",
    "    out = Dense(1)(out)\n",
    "    \n",
    "    model = keras.models.Model(inputs=inputs, outputs=out)\n",
    "    model.compile(optimizer=Adam(learning_rate=0.001), loss='mean_squared_error')\n",
    "    return model\n"
   ]
  },
  {
   "cell_type": "code",
   "execution_count": 27,
   "metadata": {},
   "outputs": [],
   "source": [
    "norm_layer.adapt(x)"
   ]
  },
  {
   "cell_type": "code",
   "execution_count": 28,
   "metadata": {},
   "outputs": [],
   "source": [
    "model = build_model()"
   ]
  },
  {
   "cell_type": "code",
   "execution_count": 29,
   "metadata": {},
   "outputs": [
    {
     "name": "stdout",
     "output_type": "stream",
     "text": [
      "Epoch 1/25\n"
     ]
    },
    {
     "name": "stdout",
     "output_type": "stream",
     "text": [
      "2100/2100 [==============================] - 50s 23ms/step - loss: 2293.0393 - val_loss: 281.9149\n",
      "Epoch 2/25\n",
      "2100/2100 [==============================] - 45s 22ms/step - loss: 287.7443 - val_loss: 210.0620\n",
      "Epoch 3/25\n",
      "2100/2100 [==============================] - 49s 23ms/step - loss: 226.2674 - val_loss: 183.7226\n",
      "Epoch 4/25\n",
      "2100/2100 [==============================] - 48s 23ms/step - loss: 196.7624 - val_loss: 148.8665\n",
      "Epoch 5/25\n",
      "2100/2100 [==============================] - 45s 21ms/step - loss: 168.6373 - val_loss: 103.9638\n",
      "Epoch 6/25\n",
      "2100/2100 [==============================] - 45s 21ms/step - loss: 151.8509 - val_loss: 105.0590\n",
      "Epoch 7/25\n",
      "2100/2100 [==============================] - 46s 22ms/step - loss: 150.6947 - val_loss: 104.9145\n",
      "Epoch 8/25\n",
      "2100/2100 [==============================] - 45s 21ms/step - loss: 139.2471 - val_loss: 82.9577\n",
      "Epoch 9/25\n",
      "2100/2100 [==============================] - 47s 23ms/step - loss: 130.3729 - val_loss: 118.3317\n",
      "Epoch 10/25\n",
      "2100/2100 [==============================] - 45s 21ms/step - loss: 127.5317 - val_loss: 84.6546\n",
      "Epoch 11/25\n",
      "2100/2100 [==============================] - 45s 21ms/step - loss: 122.4493 - val_loss: 133.1246\n",
      "Epoch 12/25\n",
      "2100/2100 [==============================] - 49s 23ms/step - loss: 118.2117 - val_loss: 83.2537\n",
      "Epoch 13/25\n",
      "2100/2100 [==============================] - 49s 24ms/step - loss: 112.3536 - val_loss: 80.1522\n",
      "Epoch 14/25\n",
      "2100/2100 [==============================] - 48s 23ms/step - loss: 108.8834 - val_loss: 67.8745\n",
      "Epoch 15/25\n",
      "2100/2100 [==============================] - 47s 22ms/step - loss: 103.7441 - val_loss: 71.7261\n",
      "Epoch 16/25\n",
      "2100/2100 [==============================] - 47s 22ms/step - loss: 101.5123 - val_loss: 99.2247\n",
      "Epoch 17/25\n",
      "2100/2100 [==============================] - 46s 22ms/step - loss: 99.1193 - val_loss: 79.3290\n",
      "Epoch 18/25\n",
      "2100/2100 [==============================] - 45s 21ms/step - loss: 98.5395 - val_loss: 59.0747\n",
      "Epoch 19/25\n",
      "2100/2100 [==============================] - 47s 22ms/step - loss: 92.1288 - val_loss: 59.4250\n",
      "Epoch 20/25\n",
      "2100/2100 [==============================] - 47s 22ms/step - loss: 93.4654 - val_loss: 45.7244\n",
      "Epoch 21/25\n",
      "2100/2100 [==============================] - 47s 22ms/step - loss: 89.2845 - val_loss: 73.7619\n",
      "Epoch 22/25\n",
      "2100/2100 [==============================] - 48s 23ms/step - loss: 83.5834 - val_loss: 65.8981\n",
      "Epoch 23/25\n",
      "2100/2100 [==============================] - 45s 21ms/step - loss: 84.6096 - val_loss: 157.2355\n",
      "Epoch 24/25\n",
      "2100/2100 [==============================] - 46s 22ms/step - loss: 84.9997 - val_loss: 56.6056\n",
      "Epoch 25/25\n",
      "2100/2100 [==============================] - 50s 24ms/step - loss: 78.8218 - val_loss: 45.2870\n"
     ]
    }
   ],
   "source": [
    "history = model.fit(x_train, y_train, epochs=25, batch_size=8, validation_data=(x_test, y_test))"
   ]
  },
  {
   "cell_type": "code",
   "execution_count": 30,
   "metadata": {},
   "outputs": [
    {
     "data": {
      "text/plain": [
       "<matplotlib.legend.Legend at 0x7fb054b6e650>"
      ]
     },
     "execution_count": 30,
     "metadata": {},
     "output_type": "execute_result"
    },
    {
     "data": {
      "image/png": "[encoded data removed]",
      "text/plain": [
       "<Figure size 640x480 with 1 Axes>"
      ]
     },
     "metadata": {},
     "output_type": "display_data"
    }
   ],
   "source": [
    "plt.plot(history.history['loss'], label='train')\n",
    "plt.plot(history.history['val_loss'], label='test')\n",
    "# plt.plot(history.history['auc'], label='train auc')\n",
    "plt.legend()"
   ]
  },
  {
   "cell_type": "code",
   "execution_count": 31,
   "metadata": {},
   "outputs": [
    {
     "name": "stdout",
     "output_type": "stream",
     "text": [
      "4725/4725 [==============================] - 11s 2ms/step\n",
      "4725/4725 [==============================] - 10s 2ms/step\n",
      "MSE: 45.287002125646346\n",
      "MAE: 4.750453707738464\n"
     ]
    }
   ],
   "source": [
    "from sklearn.metrics import mean_squared_error\n",
    "from sklearn.metrics import mean_absolute_error\n",
    "mse = mean_squared_error(y_test, model.predict(x_test))\n",
    "mae = mean_absolute_error(y_test, model.predict(x_test))\n",
    "print('MSE:', mse)\n",
    "print('MAE:', mae)"
   ]
  },
  {
   "cell_type": "code",
   "execution_count": null,
   "metadata": {},
   "outputs": [],
   "source": []
  }
 ],
 "metadata": {
  "kernelspec": {
   "display_name": "nlpenv",
   "language": "python",
   "name": "python3"
  },
  "language_info": {
   "codemirror_mode": {
    "name": "ipython",
    "version": 3
   },
   "file_extension": ".py",
   "mimetype": "text/x-python",
   "name": "python",
   "nbconvert_exporter": "python",
   "pygments_lexer": "ipython3",
   "version": "3.11.6"
  }
 },
 "nbformat": 4,
 "nbformat_minor": 2
}
